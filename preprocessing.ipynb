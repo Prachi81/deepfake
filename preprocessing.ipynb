{
  "nbformat": 4,
  "nbformat_minor": 0,
  "metadata": {
    "colab": {
      "provenance": [],
      "gpuType": "T4"
    },
    "kernelspec": {
      "name": "python3",
      "display_name": "Python 3"
    },
    "language_info": {
      "name": "python"
    },
    "accelerator": "GPU"
  },
  "cells": [
    {
      "cell_type": "code",
      "execution_count": null,
      "metadata": {
        "colab": {
          "base_uri": "https://localhost:8080/"
        },
        "id": "bfyicGvvZqTY",
        "outputId": "7b3d0350-3139-4743-ff0a-27f167b081a3"
      },
      "outputs": [
        {
          "output_type": "stream",
          "name": "stdout",
          "text": [
            "Requirement already satisfied: tqdm in /usr/local/lib/python3.10/dist-packages (4.66.4)\n",
            "Requirement already satisfied: opencv-python in /usr/local/lib/python3.10/dist-packages (4.8.0.76)\n",
            "Collecting face_recognition\n",
            "  Downloading face_recognition-1.3.0-py2.py3-none-any.whl (15 kB)\n",
            "Requirement already satisfied: numpy>=1.21.2 in /usr/local/lib/python3.10/dist-packages (from opencv-python) (1.25.2)\n",
            "Collecting face-recognition-models>=0.3.0 (from face_recognition)\n",
            "  Downloading face_recognition_models-0.3.0.tar.gz (100.1 MB)\n",
            "\u001b[2K     \u001b[90m━━━━━━━━━━━━━━━━━━━━━━━━━━━━━━━━━━━━━━━━\u001b[0m \u001b[32m100.1/100.1 MB\u001b[0m \u001b[31m9.3 MB/s\u001b[0m eta \u001b[36m0:00:00\u001b[0m\n",
            "\u001b[?25h  Preparing metadata (setup.py) ... \u001b[?25l\u001b[?25hdone\n",
            "Requirement already satisfied: Click>=6.0 in /usr/local/lib/python3.10/dist-packages (from face_recognition) (8.1.7)\n",
            "Requirement already satisfied: dlib>=19.7 in /usr/local/lib/python3.10/dist-packages (from face_recognition) (19.24.4)\n",
            "Requirement already satisfied: Pillow in /usr/local/lib/python3.10/dist-packages (from face_recognition) (9.4.0)\n",
            "Building wheels for collected packages: face-recognition-models\n",
            "  Building wheel for face-recognition-models (setup.py) ... \u001b[?25l\u001b[?25hdone\n",
            "  Created wheel for face-recognition-models: filename=face_recognition_models-0.3.0-py2.py3-none-any.whl size=100566170 sha256=711cb85f8e8c7223d0671ce1ac15cf5031cba3bddc50d335e52ae15ce3f34e5f\n",
            "  Stored in directory: /root/.cache/pip/wheels/7a/eb/cf/e9eced74122b679557f597bb7c8e4c739cfcac526db1fd523d\n",
            "Successfully built face-recognition-models\n",
            "Installing collected packages: face-recognition-models, face_recognition\n",
            "Successfully installed face-recognition-models-0.3.0 face_recognition-1.3.0\n"
          ]
        }
      ],
      "source": [
        "!pip install tqdm opencv-python face_recognition\n"
      ]
    },
    {
      "cell_type": "code",
      "source": [
        "from google.colab import drive\n",
        "drive.mount('/content/drive')\n"
      ],
      "metadata": {
        "colab": {
          "base_uri": "https://localhost:8080/"
        },
        "id": "w-Ap8CS7Z_TV",
        "outputId": "bf0e67c3-5c82-4fbd-f515-1fc1c4575dd0"
      },
      "execution_count": null,
      "outputs": [
        {
          "output_type": "stream",
          "name": "stdout",
          "text": [
            "Drive already mounted at /content/drive; to attempt to forcibly remount, call drive.mount(\"/content/drive\", force_remount=True).\n"
          ]
        }
      ]
    },
    {
      "cell_type": "code",
      "source": [
        "import zipfile\n",
        "\n",
        "zip_path = \"/content/drive/MyDrive/Copy of Celeb-DF-v2.zip\"\n",
        "\n",
        "extract_dir = \"/content/your_extract_directory\"\n",
        "\n",
        "with zipfile.ZipFile(zip_path, 'r') as zip_ref:\n",
        "    zip_ref.extractall(extract_dir)"
      ],
      "metadata": {
        "id": "Z7xNapTmnljl"
      },
      "execution_count": null,
      "outputs": []
    },
    {
      "cell_type": "code",
      "source": [
        "# %% [code]\n",
        "#To get the average frame count\n",
        "import json\n",
        "import glob\n",
        "import numpy as np\n",
        "import cv2\n",
        "import copy\n",
        "video_files =  glob.glob('/content/your_extract_directory/Celeb-real/*.mp4')\n",
        "\n",
        "frame_count = []\n",
        "for video_file in video_files:\n",
        "  cap = cv2.VideoCapture(video_file)\n",
        "  if(int(cap.get(cv2.CAP_PROP_FRAME_COUNT))<150):\n",
        "    video_files.remove(video_file)\n",
        "    continue\n",
        "  frame_count.append(int(cap.get(cv2.CAP_PROP_FRAME_COUNT)))\n",
        "print(\"frames\" , frame_count)\n",
        "print(\"Total number of videos: \" , len(frame_count))\n",
        "print('Average frame per video:',np.mean(frame_count))"
      ],
      "metadata": {
        "colab": {
          "base_uri": "https://localhost:8080/"
        },
        "id": "7TXVAhwPnstY",
        "outputId": "4992a0c6-fc9e-4192-91ae-bcbde1293631"
      },
      "execution_count": null,
      "outputs": [
        {
          "output_type": "stream",
          "name": "stdout",
          "text": [
            "frames [477, 317, 306, 461, 308, 468, 483, 466, 455, 315, 482, 479, 451, 418, 481, 312, 315, 376, 344, 301, 463, 541, 283, 571, 332, 317, 327, 485, 441, 312, 247, 272, 404, 303, 327, 337, 310, 372, 333, 269, 380, 353, 365, 479, 450, 479, 257, 330, 321, 458, 352, 372, 342, 449, 283, 446, 473, 470, 301, 347, 327, 320, 422, 249, 342, 310, 342, 472, 309, 401, 314, 461, 322, 364, 339, 320, 234, 519, 457, 740, 331, 314, 307, 292, 465, 361, 477, 338, 306, 332, 521, 439, 276, 337, 334, 441, 383, 452, 445, 319, 551, 470, 492, 308, 330, 467, 449, 481, 470, 400, 477, 280, 304, 313, 261, 378, 318, 308, 316, 315, 322, 317, 338, 480, 448, 478, 362, 457, 466, 369, 371, 314, 329, 454, 331, 199, 494, 313, 352, 452, 316, 461, 280, 326, 364, 409, 335, 444, 305, 435, 456, 305, 458, 409, 490, 534, 267, 499, 315, 316, 311, 303, 328, 325, 316, 316, 368, 489, 460, 332, 320, 267, 347, 306, 324, 243, 336, 420, 416, 161, 380, 453, 319, 322, 325, 334, 335, 530, 472, 357, 448, 454, 412, 326, 477, 494, 447, 310, 319, 338, 294, 460, 315, 349, 337, 351, 340, 427, 557, 441, 450, 438, 415, 291, 327, 366, 447, 338, 256, 273, 405, 314, 335, 457, 391, 324, 320, 456, 315, 350, 364, 501, 464, 438, 311, 504, 457, 288, 441, 376, 400, 397, 479, 334, 314, 312, 388, 321, 311, 339, 555, 332, 309, 494, 501, 468, 461, 464, 320, 330, 455, 570, 478, 510, 319, 315, 459, 310, 215, 341, 454, 338, 458, 335, 363, 534, 335, 414, 322, 266, 483, 333, 365, 472, 313, 464, 380, 323, 446, 437, 318, 334, 338, 417, 350, 472, 310, 492, 334, 297, 455, 456, 361, 513, 291, 447, 466, 474, 308, 333, 466, 315, 319, 451, 349, 323, 327, 582, 306, 325, 283, 390, 475, 309, 451, 423, 295, 448, 259, 465, 370, 333, 584, 527, 504, 525, 458, 209, 323, 475, 321, 312, 401, 295, 474, 331, 535, 310, 312, 411, 571, 310, 434, 313, 321, 373, 328, 468, 460, 326, 345, 321, 319, 314, 383, 359, 473, 323, 314, 459, 494, 317, 363, 334, 313, 459, 437, 317, 478, 355, 332, 372, 224, 270, 322, 371, 342, 333, 341, 340, 639, 313, 328, 473, 310, 307, 342, 311, 318, 446, 449, 334, 563, 322, 467, 381, 309, 497, 566, 383, 214, 335, 455, 466, 449, 517, 329, 334, 457, 489, 429, 473, 464, 579, 274, 331, 237, 447, 308, 337, 516, 451, 307, 458, 323, 394, 431, 516, 319, 307, 341, 317, 250, 492, 307, 350, 457, 201, 387, 331, 497, 428, 295, 307, 428, 441, 469, 319, 469, 491, 451, 516, 398, 466, 310, 399, 315, 464, 464, 449, 433, 314, 239, 314, 327, 483, 317, 284, 349, 278, 449, 332, 373, 425, 502, 611, 228, 172, 351, 468, 165, 332, 290, 362, 321, 317, 379, 380, 487, 327, 327, 459, 467, 420, 324, 467, 310, 178, 460, 315, 298, 427, 311, 459, 319, 307, 463, 419, 332, 308, 306, 469, 225, 365, 322, 410, 335, 497, 328, 468, 331, 376, 398, 485, 508, 305, 323, 322, 266, 380, 186, 302, 333, 458, 377, 479, 456, 306, 408, 455, 262, 520, 470, 585, 485, 235, 529, 503, 230, 458, 610, 459, 383, 286, 330, 315, 315, 458, 451, 470, 505, 467, 336, 333, 332, 342, 380, 329, 470, 450, 473, 295, 301, 630, 502, 514]\n",
            "Total number of videos:  586\n",
            "Average frame per video: 383.05119453924914\n"
          ]
        }
      ]
    },
    {
      "cell_type": "code",
      "source": [
        "# %% [code]\n",
        "# to extract frame\n",
        "def frame_extract(path):\n",
        "  vidObj = cv2.VideoCapture(path)\n",
        "  success = 1\n",
        "  while success:\n",
        "      success, image = vidObj.read()\n",
        "      if success:\n",
        "          yield image"
      ],
      "metadata": {
        "id": "KsBnW-NGqiXP"
      },
      "execution_count": null,
      "outputs": []
    },
    {
      "cell_type": "code",
      "source": [
        "!pip3 install face_recognition\n",
        "!mkdir '/content/drive/My Drive/FF_REAL_Face_only_data2'\n",
        "import torch\n",
        "import torchvision\n",
        "from torchvision import transforms\n",
        "from torch.utils.data import DataLoader\n",
        "from torch.utils.data.dataset import Dataset\n",
        "import os\n",
        "import numpy as np\n",
        "import cv2\n",
        "import matplotlib.pyplot as plt\n",
        "import face_recognition\n",
        "from tqdm.autonotebook import tqdm"
      ],
      "metadata": {
        "colab": {
          "base_uri": "https://localhost:8080/"
        },
        "id": "XQ1-1XIIqoo0",
        "outputId": "004255ce-1e54-48c9-a21f-e84da015eb2c"
      },
      "execution_count": null,
      "outputs": [
        {
          "output_type": "stream",
          "name": "stdout",
          "text": [
            "Collecting face_recognition\n",
            "  Downloading face_recognition-1.3.0-py2.py3-none-any.whl (15 kB)\n",
            "Collecting face-recognition-models>=0.3.0 (from face_recognition)\n",
            "  Downloading face_recognition_models-0.3.0.tar.gz (100.1 MB)\n",
            "\u001b[2K     \u001b[90m━━━━━━━━━━━━━━━━━━━━━━━━━━━━━━━━━━━━━━━━\u001b[0m \u001b[32m100.1/100.1 MB\u001b[0m \u001b[31m9.0 MB/s\u001b[0m eta \u001b[36m0:00:00\u001b[0m\n",
            "\u001b[?25h  Preparing metadata (setup.py) ... \u001b[?25l\u001b[?25hdone\n",
            "Requirement already satisfied: Click>=6.0 in /usr/local/lib/python3.10/dist-packages (from face_recognition) (8.1.7)\n",
            "Requirement already satisfied: dlib>=19.7 in /usr/local/lib/python3.10/dist-packages (from face_recognition) (19.24.4)\n",
            "Requirement already satisfied: numpy in /usr/local/lib/python3.10/dist-packages (from face_recognition) (1.25.2)\n",
            "Requirement already satisfied: Pillow in /usr/local/lib/python3.10/dist-packages (from face_recognition) (9.4.0)\n",
            "Building wheels for collected packages: face-recognition-models\n",
            "  Building wheel for face-recognition-models (setup.py) ... \u001b[?25l\u001b[?25hdone\n",
            "  Created wheel for face-recognition-models: filename=face_recognition_models-0.3.0-py2.py3-none-any.whl size=100566170 sha256=3f3204c4f2e48c5c8b76ea267bfb819c6abf0543bb07e2b5eee1d330e5ecdfeb\n",
            "  Stored in directory: /root/.cache/pip/wheels/7a/eb/cf/e9eced74122b679557f597bb7c8e4c739cfcac526db1fd523d\n",
            "Successfully built face-recognition-models\n",
            "Installing collected packages: face-recognition-models, face_recognition\n",
            "Successfully installed face-recognition-models-0.3.0 face_recognition-1.3.0\n"
          ]
        }
      ]
    },
    {
      "cell_type": "code",
      "source": [
        "import os\n",
        "import glob\n",
        "from tqdm import tqdm\n",
        "import cv2\n",
        "import face_recognition\n",
        "\n",
        "def create_face_videos(path_list, out_dir):\n",
        "    already_present_count = glob.glob(os.path.join(out_dir, '*.mp4'))\n",
        "    print(\"No of videos already present\", len(already_present_count))\n",
        "\n",
        "    for path in tqdm(path_list):\n",
        "        out_path = os.path.join(out_dir, os.path.basename(path))\n",
        "        if os.path.exists(out_path):\n",
        "            print(\"File Already exists:\", out_path)\n",
        "            continue\n",
        "\n",
        "        frames = []\n",
        "        out = cv2.VideoWriter(out_path, cv2.VideoWriter_fourcc('M', 'J', 'P', 'G'), 30, (224, 224))\n",
        "\n",
        "        for idx, frame in enumerate(frame_extract(path)):\n",
        "            if idx % 3 == 0:\n",
        "                frames.append(frame)\n",
        "                if len(frames) == 4:\n",
        "                    faces = face_recognition.batch_face_locations(frames)\n",
        "                    for i, face_locations in enumerate(faces):\n",
        "                        for face in face_locations:\n",
        "                            top, right, bottom, left = face\n",
        "                            try:\n",
        "                                face_frame = frames[i][top:bottom, left:right]\n",
        "                                resized_face = cv2.resize(face_frame, (224, 224))\n",
        "                                out.write(resized_face)\n",
        "                            except Exception as e:\n",
        "                                print(f\"Error processing frame: {e}\")\n",
        "                    frames = []\n",
        "\n",
        "        out.release()"
      ],
      "metadata": {
        "id": "SEFSkwpDq7VS"
      },
      "execution_count": null,
      "outputs": []
    },
    {
      "cell_type": "code",
      "source": [
        "# %% [code]\n",
        "create_face_videos(video_files,'/content/drive/MyDrive/FF_REAL_Face_only_data2/')\n"
      ],
      "metadata": {
        "colab": {
          "base_uri": "https://localhost:8080/"
        },
        "id": "TROPEr-jrEgj",
        "outputId": "36843451-b27d-4235-ed2e-cfd1971ca11f"
      },
      "execution_count": null,
      "outputs": [
        {
          "metadata": {
            "tags": null
          },
          "name": "stdout",
          "output_type": "stream",
          "text": [
            "No of videos already present 0\n"
          ]
        },
        {
          "output_type": "stream",
          "name": "stderr",
          "text": [
            "100%|██████████| 588/588 [1:18:33<00:00,  8.02s/it]\n"
          ]
        }
      ]
    }
  ]
}